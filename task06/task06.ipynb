{
 "cells": [
  {
   "cell_type": "code",
   "execution_count": null,
   "metadata": {},
   "outputs": [],
   "source": [
    "import gzip\n",
    "import nltk\n",
    "import string\n",
    "import numpy as np\n",
    "\n",
    "from pathlib import Path\n",
    "from sklearn.pipeline import Pipeline\n",
    "from collections import Counter, defaultdict\n",
    "from sklearn.ensemble import GradientBoostingClassifier, RandomForestClassifier\n",
    "from sklearn.model_selection import StratifiedShuffleSplit\n",
    "from sklearn.naive_bayes import MultinomialNB, BernoulliNB\n",
    "from sklearn.linear_model import LinearRegression, SGDClassifier\n",
    "from sklearn.feature_extraction.text import CountVectorizer, TfidfVectorizer\n",
    "\n",
    "from nltk.corpus import stopwords\n",
    "from nltk.stem.snowball import RussianStemmer\n",
    "from nltk.tokenize import sent_tokenize, wordpunct_tokenize"
   ]
  },
  {
   "cell_type": "markdown",
   "metadata": {},
   "source": [
    "# Data"
   ]
  },
  {
   "cell_type": "code",
   "execution_count": null,
   "metadata": {},
   "outputs": [],
   "source": [
    "X = np.array(Path('reviews.txt').open().readlines())\n",
    "y = np.array([int(it) for it in Path('marks.txt').open().readlines()])"
   ]
  },
  {
   "cell_type": "code",
   "execution_count": null,
   "metadata": {},
   "outputs": [],
   "source": [
    "sss = StratifiedShuffleSplit(n_splits=1, test_size=0.02, random_state=0)\n",
    "train_index, val_index = list(sss.split(X, y))[0]\n",
    "\n",
    "X_train, y_train = X[train_index], y[train_index]\n",
    "X_val, y_val = X[val_index], y[val_index]"
   ]
  },
  {
   "cell_type": "markdown",
   "metadata": {},
   "source": [
    "# Tools"
   ]
  },
  {
   "cell_type": "code",
   "execution_count": null,
   "metadata": {},
   "outputs": [],
   "source": [
    "def fix_y(y: [float]) -> [int]:\n",
    "    return [int(round(max(1, min(10, it)))) for it in y]\n",
    "\n",
    "\n",
    "def loss(y_true: [int], y_pred: [int]):\n",
    "    return np.sqrt(np.mean((y_true - y_pred) ** 2))"
   ]
  },
  {
   "cell_type": "code",
   "execution_count": null,
   "metadata": {},
   "outputs": [],
   "source": [
    "PUNKT = set(string.punctuation + \"«»№_—\")\n",
    "STOP_WORDS = set(stopwords.words(\"russian\"))"
   ]
  },
  {
   "cell_type": "code",
   "execution_count": null,
   "metadata": {},
   "outputs": [],
   "source": [
    "class StemmedCountVectorizer(CountVectorizer):\n",
    "    stemmer = RussianStemmer(\"stemmer\")\n",
    "    \n",
    "    def build_analyzer(self):\n",
    "        analyzer = super(StemmedCountVectorizer, self).build_analyzer()\n",
    "        return lambda doc: ([self.stemmer.stem(word) for word in analyzer(doc)])\n",
    "    \n",
    "\n",
    "class StemmedTfidfVectorizer(TfidfVectorizer):\n",
    "    stemmer = RussianStemmer(\"stemmer\")\n",
    "    \n",
    "    def build_analyzer(self):\n",
    "        analyzer = super(StemmedTfidfVectorizer, self).build_analyzer()\n",
    "        return lambda doc: ([self.stemmer.stem(word) for word in analyzer(doc)])"
   ]
  },
  {
   "cell_type": "code",
   "execution_count": null,
   "metadata": {},
   "outputs": [],
   "source": [
    "def train_and_test_pipeline(X_train, y_train, X_val, y_val, pipeline, reg=False):\n",
    "    pipeline.fit(X_train, y_train)\n",
    "    \n",
    "    y_train_pred = pipeline.predict(X_train)\n",
    "    y_val_pred = pipeline.predict(X_val)\n",
    "    \n",
    "    if reg:\n",
    "        y_train_pred = fix_y(y_train_pred)\n",
    "        y_val_pred = fix_y(y_val_pred)\n",
    "\n",
    "    print(f'Train RMSE = {loss(y_train, y_train_pred):0.2f}')\n",
    "    print(f'Validate RMSE = {loss(y_val, y_val_pred):0.2f}')"
   ]
  },
  {
   "cell_type": "markdown",
   "metadata": {},
   "source": [
    "# Classification approaches"
   ]
  },
  {
   "cell_type": "markdown",
   "metadata": {},
   "source": [
    "## Naive Bayes"
   ]
  },
  {
   "cell_type": "markdown",
   "metadata": {},
   "source": [
    "### Multinomial"
   ]
  },
  {
   "cell_type": "code",
   "execution_count": null,
   "metadata": {},
   "outputs": [],
   "source": [
    "text_clf = Pipeline([\n",
    "    ('vect', StemmedCountVectorizer(stop_words=STOP_WORDS, min_df=0.002, max_df=0.8)),\n",
    "    ('clf', MultinomialNB())\n",
    "])"
   ]
  },
  {
   "cell_type": "code",
   "execution_count": null,
   "metadata": {},
   "outputs": [],
   "source": [
    "train_and_test_pipeline(X_train, y_train, X_val, y_val, text_clf)"
   ]
  },
  {
   "cell_type": "markdown",
   "metadata": {},
   "source": [
    "### Bernoulli"
   ]
  },
  {
   "cell_type": "code",
   "execution_count": null,
   "metadata": {},
   "outputs": [],
   "source": [
    "text_clf = Pipeline([\n",
    "    ('vect', StemmedCountVectorizer(stop_words=STOP_WORDS, min_df=0.002, max_df=0.8)),\n",
    "    ('clf', BernoulliNB())\n",
    "])"
   ]
  },
  {
   "cell_type": "code",
   "execution_count": null,
   "metadata": {},
   "outputs": [],
   "source": [
    "train_and_test_pipeline(X_train, y_train, X_val, y_val, text_clf)"
   ]
  },
  {
   "cell_type": "markdown",
   "metadata": {},
   "source": [
    "## SGDClassifier"
   ]
  },
  {
   "cell_type": "markdown",
   "metadata": {},
   "source": [
    "### CountVectorizer"
   ]
  },
  {
   "cell_type": "code",
   "execution_count": null,
   "metadata": {},
   "outputs": [],
   "source": [
    "text_clf = Pipeline([\n",
    "    ('vect', StemmedCountVectorizer(stop_words=STOP_WORDS, min_df=0.002, max_df=0.8)),\n",
    "    ('clf', SGDClassifier(loss='squared_loss', \n",
    "                          penalty='elasticnet', \n",
    "                          class_weight='balanced',\n",
    "                          random_state=0, \n",
    "                          max_iter=5,\n",
    "                          n_jobs=4,\n",
    "                          tol=None))\n",
    "])"
   ]
  },
  {
   "cell_type": "code",
   "execution_count": null,
   "metadata": {},
   "outputs": [],
   "source": [
    "train_and_test_pipeline(X_train, y_train, X_val, y_val, text_clf)"
   ]
  },
  {
   "cell_type": "markdown",
   "metadata": {},
   "source": [
    "### TfidfVectorizer"
   ]
  },
  {
   "cell_type": "code",
   "execution_count": null,
   "metadata": {},
   "outputs": [],
   "source": [
    "text_clf = Pipeline([\n",
    "    ('vect', StemmedTfidfVectorizer(stop_words=STOP_WORDS, min_df=0.002, max_df=0.8)),\n",
    "    ('clf', SGDClassifier(loss='hinge', \n",
    "                          penalty='elasticnet', \n",
    "                          alpha=1e-3, \n",
    "                          random_state=0, \n",
    "                          max_iter=5,\n",
    "                          n_jobs=4,\n",
    "                          tol=None))\n",
    "])"
   ]
  },
  {
   "cell_type": "code",
   "execution_count": null,
   "metadata": {},
   "outputs": [],
   "source": [
    "train_and_test_pipeline(X_train, y_train, X_val, y_val, text_clf)"
   ]
  },
  {
   "cell_type": "markdown",
   "metadata": {},
   "source": [
    "## GradientBoostingClassifier"
   ]
  },
  {
   "cell_type": "markdown",
   "metadata": {},
   "source": [
    "### TfidfVectorizer"
   ]
  },
  {
   "cell_type": "code",
   "execution_count": null,
   "metadata": {},
   "outputs": [],
   "source": [
    "text_clf = Pipeline([\n",
    "    ('vect', StemmedTfidfVectorizer(stop_words=STOP_WORDS, min_df=0.002, max_df=0.8)),\n",
    "    ('clf', GradientBoostingClassifier(subsample=0.8, learning_rate=0.05, n_estimators=200))\n",
    "])"
   ]
  },
  {
   "cell_type": "code",
   "execution_count": null,
   "metadata": {},
   "outputs": [],
   "source": [
    "train_and_test_pipeline(X_train, y_train, X_val, y_val, text_clf)"
   ]
  },
  {
   "cell_type": "markdown",
   "metadata": {},
   "source": [
    "## RandomForestClassifier"
   ]
  },
  {
   "cell_type": "code",
   "execution_count": null,
   "metadata": {},
   "outputs": [],
   "source": [
    "text_clf = Pipeline([\n",
    "    ('vect', StemmedTfidfVectorizer(stop_words=STOP_WORDS, min_df=0.002, max_df=0.8)),\n",
    "    ('clf', RandomForestClassifier(n_estimators=20, n_jobs=10))\n",
    "])"
   ]
  },
  {
   "cell_type": "code",
   "execution_count": null,
   "metadata": {},
   "outputs": [],
   "source": [
    "train_and_test_pipeline(X_train, y_train, X_val, y_val, text_clf)"
   ]
  },
  {
   "cell_type": "markdown",
   "metadata": {},
   "source": [
    "# Regression approaches"
   ]
  },
  {
   "cell_type": "markdown",
   "metadata": {},
   "source": [
    "## LinearRegression"
   ]
  },
  {
   "cell_type": "markdown",
   "metadata": {},
   "source": [
    "### CountVectorizer"
   ]
  },
  {
   "cell_type": "code",
   "execution_count": null,
   "metadata": {},
   "outputs": [],
   "source": [
    "text_reg = Pipeline([\n",
    "    ('vect', StemmedCountVectorizer(stop_words=STOP_WORDS, min_df=0.002, max_df=0.8)),\n",
    "    ('reg', LinearRegression())\n",
    "])"
   ]
  },
  {
   "cell_type": "code",
   "execution_count": null,
   "metadata": {},
   "outputs": [],
   "source": [
    "train_and_test_pipeline(X_train, y_train, X_val, y_val, text_reg, reg=True)"
   ]
  },
  {
   "cell_type": "markdown",
   "metadata": {},
   "source": [
    "### TfidfVectorizer"
   ]
  },
  {
   "cell_type": "code",
   "execution_count": null,
   "metadata": {},
   "outputs": [],
   "source": [
    "text_reg = Pipeline([\n",
    "    ('vect', StemmedTfidfVectorizer(stop_words=STOP_WORDS, min_df=0.002, max_df=0.8)),\n",
    "    ('reg', LinearRegression())\n",
    "])"
   ]
  },
  {
   "cell_type": "code",
   "execution_count": null,
   "metadata": {},
   "outputs": [],
   "source": [
    "train_and_test_pipeline(X_train, y_train, X_val, y_val, text_reg, reg=True)"
   ]
  }
 ],
 "metadata": {
  "kernelspec": {
   "display_name": "Python 3",
   "language": "python",
   "name": "python3"
  },
  "language_info": {
   "codemirror_mode": {
    "name": "ipython",
    "version": 3
   },
   "file_extension": ".py",
   "mimetype": "text/x-python",
   "name": "python",
   "nbconvert_exporter": "python",
   "pygments_lexer": "ipython3",
   "version": "3.6.4"
  }
 },
 "nbformat": 4,
 "nbformat_minor": 2
}
