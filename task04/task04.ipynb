{
 "cells": [
  {
   "cell_type": "code",
   "execution_count": 1,
   "metadata": {},
   "outputs": [],
   "source": [
    "import nltk\n",
    "import string\n",
    "import numpy as np\n",
    "\n",
    "from collections import Counter\n",
    "from abc import ABCMeta, abstractmethod\n",
    "\n",
    "from nltk.corpus import stopwords\n",
    "from nltk.stem.snowball import RussianStemmer\n",
    "from nltk.tokenize import sent_tokenize, wordpunct_tokenize"
   ]
  },
  {
   "cell_type": "code",
   "execution_count": 2,
   "metadata": {},
   "outputs": [],
   "source": [
    "text = \"В конце мая наплыв студентов в США по всемирно известной программе международного обмена достигает максимальной интенсивности .\\nИз многих интернет источников , таких как социальная сеть для участников Work &amp; Travel USA , статистически замечено , что в 2010 году вакансии для зарубежных студентов существенно сократились в количестве .\\nМногие из приехавших ребят ищут работу уже по месту , бродя по американским мегаполисам , заходя в каждый ресторанчик в поисках должностей официантов , барменов и всего , что предложат американские работодатели .\\nОбоснованием фактора увеличения безработицы является влияние кризиса в США 2009 года .\\nНо , несмотря ни на что , студенты со всей Европы продолжают ездить в Соединенные Штаты во время летних каникул , и с каждым годом количество участников увеличивается .\\nЭто дает возможность предположить , что большинство участников программы заинтересовано не в заработке денег , а в возможности попутешествовать по всемирно известным местам исторического значения , музеям , заповедникам , городам .\\nМногим интересно узнать о способе и стиле жизни американской нации .\\nСледовательно , основная цель и предназначение международной программы Work&amp;Travel USA выполняются .\\nВзаимный обмен культурными знаниями среди молодежи оказывает хорошее влияние на развитие цивилизации в глобальном плане , сближает культуры и понимание наций всего мира .\\nЭто в общей идее напоминает одну из функций Организации Объединенных Наций по созданию всемирного дружного союза .\\nПо прошествии некоторого времени , современная молодежь займет позиции чиновников и управляющих во всех государствах мира .\\nСближение и ознакомление в юном возрасте со многими странами даст выигрыш в более дружном международном отношении и , вполне вероятно , более прогрессивном разоружении ядерных стран мира , что также является одним из направлений деятельности ООН .\\nНесмотря на всю прелесть программ такого типа , посольство США в 2010 году ужесточило отбор студентов на право получения визы .\\nОтзывы студентов о прохождении посольства можно почитать в группе &quot; Посольство США &quot; специализированной социальной сети .\\nПравительство США опасается массовой нелегальной миграции иностранных студентов с помощью программы Work&amp;Travel USA .\\nПоэтому были ужесточены критерии отбора для студентов последних курсов , рассматриваемых как потенциальных нелегалов .\\nВ этом году для студентов 4 и 5 курсов высших учебных заведений необходимо было предоставить справки о продолжении обучения в сентябре 2010 года для подтверждения факта возврата студента в свою страну по окончании программы .\\nНа данный момент количество нелегально оставшихся в Соединенных Штатах участников программ международного обмена исчисляется сотнями .\\nВ подтверждение этому есть аудио-интервью у одного из таких эмигрантов в Нью-Йорке в одном из подкастов проекта &quot; Молодежная Заграница &quot; .\\n\\n&quot; Эта программа на самом деле потрясающая .\\nСтуденты лучше начинают говорить по-английски , узнают о США , знакомятся с американцами , американцы узнают от них о России , у них появляются новые друзья .\\nНам кажется , что это очень ценная программа .\\nНа личном опыте : я помню , что мы с семьей отдыхали пару лет назад на пляже в Северной Каролине .\\nОстановились пообедать .\\nИ все , кто обслуживал клиентов , оказались родом откуда-то из Сибири .\\nМне было очень приятно поговорить с ними по-русски .\\nПохоже было , что студенты были довольны тем , как они проводят лето . &quot;\\n\\nГоворит генеральный консул США , Курт Аменд , в интеренет издании Газета.ру\\n\\n\\n\""
   ]
  },
  {
   "cell_type": "markdown",
   "metadata": {},
   "source": [
    "# Tools"
   ]
  },
  {
   "cell_type": "code",
   "execution_count": 3,
   "metadata": {},
   "outputs": [],
   "source": [
    "PUNKT = set(string.punctuation + \"«»№_—\")\n",
    "STOPWORDS = set(stopwords.words(\"russian\"))\n",
    "\n",
    "stemmer = RussianStemmer(\"stemmer\")\n",
    "\n",
    "    \n",
    "def text_to_sentences(text):\n",
    "    return [sentence for sentence in sent_tokenize(text)]\n",
    "\n",
    "\n",
    "def is_punkt(word):\n",
    "    return all(char in PUNKT for char in word) or word in STOPWORDS\n",
    "\n",
    "\n",
    "def sentence_to_tokens(sentence):\n",
    "    return [stemmer.stem(word) for word in wordpunct_tokenize(sentence) if not is_punkt(word)]\n",
    " \n",
    "    \n",
    "def parse(text):\n",
    "    for sentence in text_to_sentences(text):\n",
    "        yield sentence_to_tokens(sentence)\n",
    "\n",
    "        \n",
    "def get_index(values, p):\n",
    "    return len(values[np.cumsum(values / sum(values)) < p])\n",
    "\n",
    "\n",
    "def is_allowed(ch):\n",
    "    return (ch >= 'а' and ch <= 'я') or (ch >= 'А' and ch <= 'Я') or ch == ' '\n",
    "\n",
    "\n",
    "def filter_text(text):\n",
    "    return ''.join(char for char in text if is_allowed(char))"
   ]
  },
  {
   "cell_type": "code",
   "execution_count": 4,
   "metadata": {},
   "outputs": [],
   "source": [
    "class Summarizer(metaclass=ABCMeta):\n",
    "    @abstractmethod\n",
    "    def summarize(text):\n",
    "        pass"
   ]
  },
  {
   "cell_type": "markdown",
   "metadata": {},
   "source": [
    "# Approach 1"
   ]
  },
  {
   "cell_type": "code",
   "execution_count": 5,
   "metadata": {},
   "outputs": [],
   "source": [
    "class NaiveSummarizer(Summarizer):\n",
    "    def __init__(self, max_len: int = 300):\n",
    "        self.max_len = max_len\n",
    "    \n",
    "    \n",
    "    def summarize(self, text):\n",
    "        return text[:self.max_len]"
   ]
  },
  {
   "cell_type": "markdown",
   "metadata": {},
   "source": [
    "# Approach 2"
   ]
  },
  {
   "cell_type": "code",
   "execution_count": 6,
   "metadata": {},
   "outputs": [],
   "source": [
    "class FreqSummarizer(Summarizer):\n",
    "    def __init__(self, max_cnt: int = 5, window_size: int = 7):\n",
    "        self.max_cnt = max_cnt\n",
    "        self.size = window_size\n",
    "    \n",
    "    \n",
    "    def summarize(self, text):\n",
    "        vocab = self._get_stem_vocab(text)\n",
    "        sentences = text_to_sentences(text)[:self.max_cnt]\n",
    "        ranking = sorted(sentences, key=lambda it: self._evalutate(it, vocab), reverse=True)\n",
    "        return ''.join(ranking)[:300]\n",
    "    \n",
    "    \n",
    "    def _evalutate(self, sentence, vocab):\n",
    "        tokens = sentence_to_tokens(sentence)\n",
    "        \n",
    "        score = 0\n",
    "        \n",
    "        for i in range(0, len(tokens) - self.size + 1):\n",
    "            cnt = sum(token in vocab for token in tokens[i : i + self.size])\n",
    "            score += 2 ** cnt - 1\n",
    "            \n",
    "        return score\n",
    "    \n",
    "    \n",
    "    @staticmethod\n",
    "    def _get_stem_vocab(text, l=0.15, r=0.85):\n",
    "        tokens = [token for sentence in parse(text) for token in sentence]\n",
    "        most_common = Counter(tokens).most_common()\n",
    "        tokens = np.array(list(map(lambda it: it[0], most_common)))\n",
    "        cnt = np.array(list(map(lambda it: it[1], most_common)))\n",
    "\n",
    "        left_index = get_index(cnt, l) + 1\n",
    "        right_index = get_index(cnt, r) + 1\n",
    "\n",
    "        return set(tokens[left_index:right_index])"
   ]
  },
  {
   "cell_type": "code",
   "execution_count": 7,
   "metadata": {},
   "outputs": [],
   "source": [
    "summarizer = FreqSummarizer()"
   ]
  },
  {
   "cell_type": "code",
   "execution_count": 8,
   "metadata": {},
   "outputs": [
    {
     "data": {
      "text/plain": [
       "'Многие из приехавших ребят ищут работу уже по месту  бродя по американским мегаполисам  заходя в каждый ресторанчик в поисках должностей официантов  барменов и всего  что предложат американские работодатели Из многих интернет источников  таких как социальная сеть для участников   '"
      ]
     },
     "execution_count": 8,
     "metadata": {},
     "output_type": "execute_result"
    }
   ],
   "source": [
    "filter_text(summarizer.summarize(text))"
   ]
  }
 ],
 "metadata": {
  "kernelspec": {
   "display_name": "Python 3",
   "language": "python",
   "name": "python3"
  },
  "language_info": {
   "codemirror_mode": {
    "name": "ipython",
    "version": 3
   },
   "file_extension": ".py",
   "mimetype": "text/x-python",
   "name": "python",
   "nbconvert_exporter": "python",
   "pygments_lexer": "ipython3",
   "version": "3.6.4"
  }
 },
 "nbformat": 4,
 "nbformat_minor": 2
}
